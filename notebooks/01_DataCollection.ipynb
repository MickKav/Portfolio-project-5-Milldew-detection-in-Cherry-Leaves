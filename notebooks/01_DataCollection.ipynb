{
 "cells": [
  {
   "cell_type": "markdown",
   "metadata": {},
   "source": [
    "# Data Collection"
   ]
  },
  {
   "cell_type": "markdown",
   "metadata": {},
   "source": [
    "## Objectives:\n",
    "\n",
    "1. **Load and Preprocess Cheery Leaves Images:**\n",
    "    - Read and load cherry leaf images from provided dataset.\n",
    "    - Perform any necessary preprocessing steps, such as resizing and normalization.\n",
    "\n",
    "2. **Annotate images with Labels:**\n",
    "    - Assign labels to each image indicating, whether the cherry leaf is healthy or contains powdery milldew.\n",
    "\n",
    "## Inputs:\n",
    "\n",
    "1. **Dataset:**\n",
    "   - A dataset containing cherry leaf images.\n",
    "   - The dataset should have a structure where images are organized in folders or directories.\n",
    "   - Each image should be associated with a specific class or label (healthy or mildew).\n",
    "\n",
    "2. **Paths:**\n",
    "   - Path to the local dataset on your computer (`dataset_path`).\n",
    "   - Path to the Gitpod workspace (`workspace_path`).\n",
    "\n",
    "## Outputs:\n",
    "\n",
    "1. **Processed Images:**\n",
    "   - The preprocessed cherry leaf images ready for training.\n",
    "\n",
    "2. **Labels:**\n",
    "   - A mapping between image filenames and their corresponding labels (healthy or mildew).\n",
    "\n",
    "## Additional Comments:\n",
    "\n",
    "   - no additional comments\n",
    "\n",
    "\n"
   ]
  },
  {
   "cell_type": "markdown",
   "metadata": {},
   "source": [
    "---"
   ]
  },
  {
   "cell_type": "markdown",
   "metadata": {},
   "source": [
    "# Import packages"
   ]
  },
  {
   "cell_type": "code",
   "execution_count": null,
   "metadata": {},
   "outputs": [
    {
     "ename": "",
     "evalue": "",
     "output_type": "error",
     "traceback": [
      "\u001b[1;31mRunning cells with '/home/gitpod/.pyenv/shims/python' requires the ipykernel package.\n",
      "\u001b[1;31mRun the following command to install 'ipykernel' into the Python environment. \n",
      "\u001b[1;31mCommand: '/home/gitpod/.pyenv/shims/python -m pip install ipykernel -U --force-reinstall'"
     ]
    }
   ],
   "source": [
    "%pip install -r /workspaces/Portfolio-project-5-Milldew-detection-in-Cherry-Leaves/requirements.txt"
   ]
  }
 ],
 "metadata": {
  "kernelspec": {
   "display_name": "Python 3",
   "language": "python",
   "name": "python3"
  },
  "language_info": {
   "codemirror_mode": {
    "name": "ipython",
    "version": 3
   },
   "file_extension": ".py",
   "mimetype": "text/x-python",
   "name": "python",
   "nbconvert_exporter": "python",
   "pygments_lexer": "ipython3",
   "version": "3.12.1"
  }
 },
 "nbformat": 4,
 "nbformat_minor": 2
}
